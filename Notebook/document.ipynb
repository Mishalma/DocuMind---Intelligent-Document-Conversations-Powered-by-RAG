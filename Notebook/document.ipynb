{
 "cells": [
  {
   "cell_type": "markdown",
   "id": "f5589a73",
   "metadata": {},
   "source": [
    "### A RAG Application"
   ]
  },
  {
   "cell_type": "code",
   "execution_count": 10,
   "id": "620a8629",
   "metadata": {},
   "outputs": [],
   "source": [
    "import os\n",
    "from dotenv import load_dotenv\n",
    "## langchain imports\n",
    "from langchain.text_splitter import RecursiveCharacterTextSplitter\n",
    "from langchain_community.document_loaders import TextLoader\n",
    "from langchain_openai import OpenAIEmbeddings\n",
    "from langchain.schema import Document\n",
    "\n",
    "## vectorstores\n",
    "from langchain_community.vectorstores import Chroma\n",
    "\n",
    "## utility imports\n",
    "import numpy as np\n",
    "from typing import List"
   ]
  },
  {
   "cell_type": "markdown",
   "id": "798b79d6",
   "metadata": {},
   "source": [
    "# RAG Architecture Overview\n",
    "\n",
    "RAG (Retrieval-Augmented Generation) Architecture:\n",
    "\n",
    "1. Document Loading: Load documents from various sources\n",
    "2. Document Splitting: Break documents into smaller chunks\n",
    "3. Embedding Generation: Convert chunks into vector representations\n",
    "4. Vector Storage: Store embeddings in ChromaDB\n",
    "5. Query Processing: Convert user query to embedding\n",
    "6. Similarity Search: Find relevant chunks from vector store\n",
    "7. Context Augmentation: Combine retrieved chunks with query\n",
    "8. Response Generation: LLM generates answer using context\n",
    "\n",
    "Benefits of RAG:\n",
    "- Reduces hallucinations\n",
    "- Provides up-to-date information\n",
    "- Allows citing sources\n",
    "- Works with domain-specific knowledge"
   ]
  },
  {
   "cell_type": "markdown",
   "id": "e507ee8e",
   "metadata": {},
   "source": [
    "### 1.Document Loading"
   ]
  },
  {
   "cell_type": "code",
   "execution_count": 11,
   "id": "e420b2d8",
   "metadata": {},
   "outputs": [
    {
     "data": {
      "text/plain": [
       "['\\n    Remote Work Policy\\n\\n    Employees may work remotely up to 3 days per week with manager approval.\\n    Core working hours are 10:00–16:00 local time, and VPN must be used for \\n    all company data access. Internet reimbursement is capped at $40/month.\\n    ',\n",
       " '\\n    Refund & Return Policy\\n\\n    Customers can return items within 30 days if unused and in original packaging. \\n    Refunds are processed within 7 business days after inspection and issued \\n    to the original payment method. Some items like gift cards and perishables \\n    are non-returnable.\\n    ',\n",
       " '\\n    Aurora X1 Headphones — Specifications\\n\\n    Drivers: 40mm neodymium  \\n    Frequency Response: 20Hz–40kHz  \\n    Connectivity: Bluetooth 5.3 + 3.5mm wired  \\n    Battery: 75h (ANC off), 45h (ANC on)  \\n    Charging: USB-C, 10 min fast charge → 5h playback  \\n    ',\n",
       " '\\n    Payments API — Create Charge\\n\\n    Endpoint: POST /v1/charges  \\n    Required fields: amount (integer), currency (string), source (string).  \\n    Optional: capture (boolean).  \\n    Response: returns a charge ID and status (e.g., \"succeeded\").  \\n    Use Idempotency-Key header to prevent duplicate charges.  \\n    ',\n",
       " '\\n    SQL Joins — Cheatsheet\\n\\n    INNER JOIN: rows with matches in both tables.  \\n    LEFT JOIN: all rows from left + matches from right.  \\n    RIGHT JOIN: all rows from right + matches from left.  \\n    FULL OUTER JOIN: union of matched and unmatched rows.  \\n    CROSS JOIN: Cartesian product.  \\n    ']"
      ]
     },
     "execution_count": 11,
     "metadata": {},
     "output_type": "execute_result"
    }
   ],
   "source": [
    "# Create sample documents for a RAG application\n",
    "sample_docs = [\n",
    "    \"\"\"\n",
    "    Remote Work Policy\n",
    "    \n",
    "    Employees may work remotely up to 3 days per week with manager approval.\n",
    "    Core working hours are 10:00–16:00 local time, and VPN must be used for \n",
    "    all company data access. Internet reimbursement is capped at $40/month.\n",
    "    \"\"\",\n",
    "\n",
    "    \"\"\"\n",
    "    Refund & Return Policy\n",
    "    \n",
    "    Customers can return items within 30 days if unused and in original packaging. \n",
    "    Refunds are processed within 7 business days after inspection and issued \n",
    "    to the original payment method. Some items like gift cards and perishables \n",
    "    are non-returnable.\n",
    "    \"\"\",\n",
    "\n",
    "    \"\"\"\n",
    "    Aurora X1 Headphones — Specifications\n",
    "    \n",
    "    Drivers: 40mm neodymium  \n",
    "    Frequency Response: 20Hz–40kHz  \n",
    "    Connectivity: Bluetooth 5.3 + 3.5mm wired  \n",
    "    Battery: 75h (ANC off), 45h (ANC on)  \n",
    "    Charging: USB-C, 10 min fast charge → 5h playback  \n",
    "    \"\"\",\n",
    "\n",
    "    \"\"\"\n",
    "    Payments API — Create Charge\n",
    "    \n",
    "    Endpoint: POST /v1/charges  \n",
    "    Required fields: amount (integer), currency (string), source (string).  \n",
    "    Optional: capture (boolean).  \n",
    "    Response: returns a charge ID and status (e.g., \"succeeded\").  \n",
    "    Use Idempotency-Key header to prevent duplicate charges.  \n",
    "    \"\"\",\n",
    "\n",
    "    \"\"\"\n",
    "    SQL Joins — Cheatsheet\n",
    "    \n",
    "    INNER JOIN: rows with matches in both tables.  \n",
    "    LEFT JOIN: all rows from left + matches from right.  \n",
    "    RIGHT JOIN: all rows from right + matches from left.  \n",
    "    FULL OUTER JOIN: union of matched and unmatched rows.  \n",
    "    CROSS JOIN: Cartesian product.  \n",
    "    \"\"\"\n",
    "]\n",
    "sample_docs"
   ]
  },
  {
   "cell_type": "code",
   "execution_count": null,
   "id": "7e629ecc",
   "metadata": {},
   "outputs": [],
   "source": [
    "# Sample multi-domain documents for RAG\n",
    "sample_docs = [\n",
    "    \"\"\"\n",
    "    Remote Work Policy\n",
    "    \n",
    "    Employees may work remotely up to 3 days per week with manager approval.\n",
    "    Core working hours are 10:00–16:00 local time. \n",
    "    VPN must be used for all company data access.\n",
    "    Internet reimbursement is capped at $40/month.\n",
    "    \"\"\",\n",
    "\n",
    "    \"\"\"\n",
    "    Refund & Return Policy\n",
    "    \n",
    "    Items may be returned within 30 days if unused and in original packaging. \n",
    "    Refunds are processed within 7 business days after inspection. \n",
    "    Gift cards and perishable goods are non-returnable.\n",
    "    \"\"\",\n",
    "\n",
    "    \"\"\"\n",
    "    Aurora X1 Headphones — Specifications\n",
    "    \n",
    "    Drivers: 40mm neodymium  \n",
    "    Frequency Response: 20Hz–40kHz  \n",
    "    Connectivity: Bluetooth 5.3 + 3.5mm wired  \n",
    "    Battery: 75h (ANC off), 45h (ANC on)  \n",
    "    \"\"\",\n",
    "\n",
    "    \"\"\"\n",
    "    Payments API — Create Charge\n",
    "    \n",
    "    POST /v1/charges  \n",
    "    Required: amount, currency, source.  \n",
    "    Optional: capture (boolean, default true).  \n",
    "    Response: JSON with id, amount, currency, status.  \n",
    "    \"\"\",\n",
    "\n",
    "    \"\"\"\n",
    "    SQL Joins — Cheatsheet\n",
    "    \n",
    "    INNER JOIN: rows with matches in both tables.  \n",
    "    LEFT JOIN: all rows from left + matches from right.  \n",
    "    RIGHT JOIN: all rows from right + matches from left.  \n",
    "    FULL OUTER JOIN: matched + unmatched from both.  \n",
    "    \"\"\",\n",
    "\n",
    "    \"\"\"\n",
    "    Random Forest — Interview Notes\n",
    "    \n",
    "    An ensemble of decision trees using bootstrap samples and feature subsampling.  \n",
    "    Reduces variance compared to single trees.  \n",
    "    Key parameters: n_estimators, max_depth, max_features.  \n",
    "    \"\"\",\n",
    "\n",
    "    \"\"\"\n",
    "    Sleep Hygiene Basics\n",
    "    \n",
    "    Keep consistent sleep/wake times.  \n",
    "    Limit caffeine after early afternoon.  \n",
    "    Make the bedroom cool, dark, and quiet.  \n",
    "    Reserve bed for sleep and intimacy only.  \n",
    "    \"\"\",\n",
    "\n",
    "    \"\"\"\n",
    "    One-Pot Chickpea Curry Recipe\n",
    "    \n",
    "    Ingredients: onion, garlic, ginger, garam masala, turmeric, tomatoes, coconut milk, chickpeas, spinach.  \n",
    "    Method: Sauté aromatics, add spices, simmer tomatoes, stir in coconut milk + chickpeas, finish with spinach.  \n",
    "    \"\"\",\n",
    "\n",
    "    \"\"\"\n",
    "    Tokyo Two-Day Itinerary\n",
    "    \n",
    "    Day 1: Asakusa (Senso-ji), Ueno Park, Akihabara.  \n",
    "    Day 2: Meiji Shrine, Omotesando, teamLab Planets, Odaiba.  \n",
    "    Use a Suica card for fast transit.  \n",
    "    \"\"\",\n",
    "\n",
    "    \"\"\"\n",
    "    Incident Runbook — API Latency Spikes\n",
    "    \n",
    "    Symptom: P95 latency > 1s for /v1/search.  \n",
    "    Mitigation: scale pods +1, warm cache with top queries, check DB CPU and cache hit ratio.  \n",
    "    \"\"\",\n",
    "\n",
    "    \"\"\"\n",
    "    Smart Thermostat Quick Start\n",
    "    \n",
    "    1) Turn off HVAC power.  \n",
    "    2) Label wires and mount base plate.  \n",
    "    3) Connect wires to terminals.  \n",
    "    4) Restore power and pair with mobile app.  \n",
    "    \"\"\",\n",
    "\n",
    "    \"\"\"\n",
    "    Fabrikam Press Release\n",
    "    \n",
    "    Fabrikam announces carbon-neutral shipping for all domestic orders starting Q4.  \n",
    "    Offsets are verified under the Gold Standard.  \n",
    "    Customers can track shipment-level carbon impact.  \n",
    "    \"\"\",\n",
    "\n",
    "    \"\"\"\n",
    "    Audit Logging — Admin Guide\n",
    "    \n",
    "    Prerequisite: Admin role.  \n",
    "    Steps: Settings → Security → Audit Logs → Enable.  \n",
    "    Choose retention (30, 90, 365 days).  \n",
    "    Events: login, permission changes, exports.  \n",
    "    \"\"\",\n",
    "\n",
    "    \"\"\"\n",
    "    Billing FAQ\n",
    "    \n",
    "    Q: Can I change my billing cycle?  \n",
    "    A: Yes, switch monthly ↔ annual anytime.  \n",
    "    Q: Do you offer invoices?  \n",
    "    A: Yes, downloadable PDFs under Billing → Invoices.  \n",
    "    \"\"\",\n",
    "\n",
    "    \"\"\"\n",
    "    Python Retry with Exponential Backoff\n",
    "    \n",
    "    import time, random  \n",
    "    \n",
    "    def retry(fn, attempts=5, base=0.2, jitter=0.1):  \n",
    "        for i in range(attempts):  \n",
    "            try:  \n",
    "                return fn()  \n",
    "            except Exception:  \n",
    "                if i == attempts - 1:  \n",
    "                    raise  \n",
    "                sleep = base * (2 ** i) + random.uniform(0, jitter)  \n",
    "                time.sleep(sleep)  \n",
    "    \"\"\"\n",
    "]\n"
   ]
  },
  {
   "cell_type": "code",
   "execution_count": null,
   "id": "26ef6f1f",
   "metadata": {},
   "outputs": [
    {
     "name": "stdout",
     "output_type": "stream",
     "text": [
      "Sample document create in : C:\\Users\\moham\\AppData\\Local\\Temp\\tmpq_dh14v1\n"
     ]
    }
   ],
   "source": [
    "## save sample documents to files\n",
    "import tempfile\n",
    "temp_dir=tempfile.mkdtemp()\n",
    "\n",
    "for i, doc in enumerate(sample_docs):\n",
    "    with open(f\"{temp_dir}/doc_{i}.txt\", \"w\", encoding=\"utf-8\") as f:\n",
    "        f.write(doc)\n",
    "\n",
    "print(f\"Sample document create in : {temp_dir}\")"
   ]
  },
  {
   "cell_type": "code",
   "execution_count": null,
   "id": "45b7f603",
   "metadata": {},
   "outputs": [
    {
     "name": "stdout",
     "output_type": "stream",
     "text": [
      "✅ Saved: data\\doc_0.txt\n",
      "✅ Saved: data\\doc_1.txt\n",
      "✅ Saved: data\\doc_2.txt\n",
      "✅ Saved: data\\doc_3.txt\n",
      "✅ Saved: data\\doc_4.txt\n",
      "✅ Saved: data\\doc_5.txt\n",
      "✅ Saved: data\\doc_6.txt\n",
      "✅ Saved: data\\doc_7.txt\n",
      "✅ Saved: data\\doc_8.txt\n",
      "✅ Saved: data\\doc_9.txt\n",
      "✅ Saved: data\\doc_10.txt\n",
      "✅ Saved: data\\doc_11.txt\n",
      "✅ Saved: data\\doc_12.txt\n",
      "✅ Saved: data\\doc_13.txt\n",
      "✅ Saved: data\\doc_14.txt\n"
     ]
    }
   ],
   "source": [
    "data_dir = \"data\"\n",
    "os.makedirs(data_dir, exist_ok=True)\n",
    "\n",
    "# Save each sample doc inside data/\n",
    "for i, doc in enumerate(sample_docs):\n",
    "    file_path = os.path.join(data_dir, f\"doc_{i}.txt\")\n",
    "    with open(file_path, \"w\", encoding=\"utf-8\") as f:\n",
    "        f.write(doc)\n",
    "    print(f\"✅ Saved: {file_path}\")"
   ]
  },
  {
   "cell_type": "code",
   "execution_count": 13,
   "id": "45dfe447",
   "metadata": {},
   "outputs": [
    {
     "name": "stdout",
     "output_type": "stream",
     "text": [
      "Loaded 15 documents\n",
      "\n",
      "First document preview:\n",
      "\n",
      "    Remote Work Policy\n",
      "\n",
      "    Employees may work remotely up to 3 days per week with manager approval.\n",
      "    Core working hours are 10:00–16:00 local time. \n",
      "    VPN must be used for all company data acce...\n"
     ]
    }
   ],
   "source": [
    "from langchain_community.document_loaders import DirectoryLoader,TextLoader\n",
    "\n",
    "# Load documents from directory\n",
    "loader = DirectoryLoader(\n",
    "    \"data\", \n",
    "    glob=\"*.txt\", \n",
    "    loader_cls=TextLoader,\n",
    "    loader_kwargs={'encoding': 'utf-8'}\n",
    ")\n",
    "documents = loader.load()\n",
    "\n",
    "print(f\"Loaded {len(documents)} documents\")\n",
    "print(f\"\\nFirst document preview:\")\n",
    "print(documents[0].page_content[:200] + \"...\")\n"
   ]
  },
  {
   "cell_type": "markdown",
   "id": "5af871c7",
   "metadata": {},
   "source": [
    "### 2.Initialize text splitter"
   ]
  },
  {
   "cell_type": "code",
   "execution_count": 14,
   "id": "f1678a28",
   "metadata": {},
   "outputs": [
    {
     "name": "stdout",
     "output_type": "stream",
     "text": [
      "Created 15 chunks from 15 documents\n",
      "\n",
      "Chunk example:\n",
      "Content: Remote Work Policy\n",
      "\n",
      "    Employees may work remotely up to 3 days per week with manager approval.\n",
      "    Core working hours are 10:00–16:00 local time. \n",
      " ...\n",
      "Metadata: {'source': 'data\\\\doc_0.txt'}\n"
     ]
    }
   ],
   "source": [
    "# Initialize text splitter\n",
    "text_splitter = RecursiveCharacterTextSplitter(\n",
    "    chunk_size=500,  # Maximum size of each chunk\n",
    "    chunk_overlap=50,  # Overlap between chunks to maintain context\n",
    "    length_function=len,\n",
    "    separators=[\" \"]  # Hierarchy of separators\n",
    ")\n",
    "chunks=text_splitter.split_documents(documents)\n",
    "\n",
    "print(f\"Created {len(chunks)} chunks from {len(documents)} documents\")\n",
    "print(f\"\\nChunk example:\")\n",
    "print(f\"Content: {chunks[0].page_content[:150]}...\")\n",
    "print(f\"Metadata: {chunks[0].metadata}\")"
   ]
  },
  {
   "cell_type": "code",
   "execution_count": 15,
   "id": "cfe9ddfe",
   "metadata": {},
   "outputs": [
    {
     "name": "stderr",
     "output_type": "stream",
     "text": [
      "C:\\Users\\moham\\AppData\\Local\\Temp\\ipykernel_21548\\4022424412.py:4: LangChainDeprecationWarning: The class `HuggingFaceEmbeddings` was deprecated in LangChain 0.2.2 and will be removed in 1.0. An updated version of the class exists in the :class:`~langchain-huggingface package and should be used instead. To use it run `pip install -U :class:`~langchain-huggingface` and import as `from :class:`~langchain_huggingface import HuggingFaceEmbeddings``.\n",
      "  embeddings = HuggingFaceEmbeddings(model_name='all-MiniLM-L6-v2')\n"
     ]
    }
   ],
   "source": [
    "from sentence_transformers import SentenceTransformer\n",
    "from langchain.embeddings import HuggingFaceEmbeddings\n",
    "# Load the embedding model\n",
    "embeddings = HuggingFaceEmbeddings(model_name='all-MiniLM-L6-v2')\n",
    "\n",
    "\n"
   ]
  },
  {
   "cell_type": "code",
   "execution_count": 16,
   "id": "48f6482b",
   "metadata": {},
   "outputs": [
    {
     "name": "stdout",
     "output_type": "stream",
     "text": [
      "Vector store created with 30 vectors\n",
      "Persisted to: ./chroma_db\n"
     ]
    }
   ],
   "source": [
    "from langchain_community.vectorstores import Chroma\n",
    "## Create a Chromdb vector store\n",
    "persist_directory=\"./chroma_db\"\n",
    "\n",
    "## Initialize Chromadb with Open AI embeddings\n",
    "vectorstore=Chroma.from_documents(\n",
    "    documents=chunks,\n",
    "    embedding=embeddings,\n",
    "    persist_directory=persist_directory,\n",
    "    collection_name=\"rag_collection\"\n",
    "\n",
    ")\n",
    "\n",
    "print(f\"Vector store created with {vectorstore._collection.count()} vectors\")\n",
    "print(f\"Persisted to: {persist_directory}\")"
   ]
  },
  {
   "cell_type": "code",
   "execution_count": 17,
   "id": "b57f0cbf",
   "metadata": {},
   "outputs": [
    {
     "data": {
      "text/plain": [
       "[Document(metadata={'source': 'data\\\\doc_0.txt'}, page_content='Remote Work Policy\\n\\n    Employees may work remotely up to 3 days per week with manager approval.\\n    Core working hours are 10:00–16:00 local time. \\n    VPN must be used for all company data access.\\n    Internet reimbursement is capped at $40/month.'),\n",
       " Document(metadata={'source': 'data\\\\doc_0.txt'}, page_content='Remote Work Policy\\n\\n    Employees may work remotely up to 3 days per week with manager approval.\\n    Core working hours are 10:00–16:00 local time. \\n    VPN must be used for all company data access.\\n    Internet reimbursement is capped at $40/month.'),\n",
       " Document(metadata={'source': 'data\\\\doc_12.txt'}, page_content='Audit Logging — Admin Guide\\n\\n    Prerequisite: Admin role.  \\n    Steps: Settings → Security → Audit Logs → Enable.  \\n    Choose retention (30, 90, 365 days).  \\n    Events: login, permission changes, exports.')]"
      ]
     },
     "execution_count": 17,
     "metadata": {},
     "output_type": "execute_result"
    }
   ],
   "source": [
    "query=\"What are the maximum remote work days allowed per week?\"\n",
    "\n",
    "similar_docs=vectorstore.similarity_search(query,k=3)\n",
    "similar_docs"
   ]
  },
  {
   "cell_type": "code",
   "execution_count": 18,
   "id": "6ab6d84e",
   "metadata": {},
   "outputs": [
    {
     "data": {
      "text/plain": [
       "[(Document(metadata={'source': 'data\\\\doc_0.txt'}, page_content='Remote Work Policy\\n\\n    Employees may work remotely up to 3 days per week with manager approval.\\n    Core working hours are 10:00–16:00 local time. \\n    VPN must be used for all company data access.\\n    Internet reimbursement is capped at $40/month.'),\n",
       "  0.6362245082855225),\n",
       " (Document(metadata={'source': 'data\\\\doc_0.txt'}, page_content='Remote Work Policy\\n\\n    Employees may work remotely up to 3 days per week with manager approval.\\n    Core working hours are 10:00–16:00 local time. \\n    VPN must be used for all company data access.\\n    Internet reimbursement is capped at $40/month.'),\n",
       "  0.6362245082855225),\n",
       " (Document(metadata={'source': 'data\\\\doc_12.txt'}, page_content='Audit Logging — Admin Guide\\n\\n    Prerequisite: Admin role.  \\n    Steps: Settings → Security → Audit Logs → Enable.  \\n    Choose retention (30, 90, 365 days).  \\n    Events: login, permission changes, exports.'),\n",
       "  1.6702752113342285)]"
      ]
     },
     "execution_count": 18,
     "metadata": {},
     "output_type": "execute_result"
    }
   ],
   "source": [
    "results_scores=vectorstore.similarity_search_with_score(query,k=3)\n",
    "results_scores"
   ]
  },
  {
   "cell_type": "code",
   "execution_count": 19,
   "id": "ef311649",
   "metadata": {},
   "outputs": [],
   "source": [
    "from langchain_google_genai import ChatGoogleGenerativeAI\n",
    "llm = ChatGoogleGenerativeAI(\n",
    "    model=\"gemini-1.5-flash\",   # or \"gemini-1.5-pro\", \"gemini-1.5-flash\"\n",
    "    temperature=0.2\n",
    ")\n"
   ]
  },
  {
   "cell_type": "code",
   "execution_count": 20,
   "id": "31c89fce",
   "metadata": {},
   "outputs": [
    {
     "name": "stdout",
     "output_type": "stream",
     "text": [
      "Imagine you're writing a report, but you need to check facts and find specific information.  Instead of searching the internet yourself and pasting things in, you have a super-smart assistant.  That assistant has access to a huge library of documents.  When you ask it a question, it doesn't just guess the answer; it searches its library, finds the relevant documents, and uses the information from those documents to create your report.\n",
      "\n",
      "That's RAG in a nutshell.  It's a way for AI to generate text by first retrieving relevant information from a knowledge base (the library) before generating the final output.  This makes the AI more accurate, reliable, and less prone to \"hallucinations\" (making things up).\n"
     ]
    }
   ],
   "source": [
    "response = llm.invoke(\"Explain retrieval augmented generation (RAG) in simple terms.\")\n",
    "print(response.content)"
   ]
  },
  {
   "cell_type": "code",
   "execution_count": 21,
   "id": "a98cb493",
   "metadata": {},
   "outputs": [],
   "source": [
    "from langchain.chains import create_retrieval_chain\n",
    "from langchain_core.prompts import ChatPromptTemplate\n",
    "from langchain.chains.combine_documents import create_stuff_documents_chain"
   ]
  },
  {
   "cell_type": "code",
   "execution_count": 22,
   "id": "0f84ab30",
   "metadata": {},
   "outputs": [
    {
     "data": {
      "text/plain": [
       "VectorStoreRetriever(tags=['Chroma', 'HuggingFaceEmbeddings'], vectorstore=<langchain_community.vectorstores.chroma.Chroma object at 0x00000140055F70E0>, search_kwargs={})"
      ]
     },
     "execution_count": 22,
     "metadata": {},
     "output_type": "execute_result"
    }
   ],
   "source": [
    "## Convert vector store to retriever\n",
    "retriever=vectorstore.as_retriever(\n",
    "    search_kwarg={\"k\":3} ## Retrieve top 3 relevant chunks\n",
    ")\n",
    "retriever"
   ]
  },
  {
   "cell_type": "code",
   "execution_count": 23,
   "id": "c196d634",
   "metadata": {},
   "outputs": [],
   "source": [
    "## Create a prompt template\n",
    "from langchain_core.prompts import ChatPromptTemplate\n",
    "system_prompt=\"\"\"You are an assistant for question-answering tasks. \n",
    "Use the following pieces of retrieved context to answer the question. \n",
    "If you don't know the answer, just say that you don't know. \n",
    "Use three sentences maximum and keep the answer concise.\n",
    "\n",
    "Context: {context}\"\"\"\n",
    "\n",
    "prompt = ChatPromptTemplate.from_messages([\n",
    "    (\"system\", system_prompt),\n",
    "    (\"human\", \"{input}\")\n",
    "])"
   ]
  },
  {
   "cell_type": "code",
   "execution_count": 24,
   "id": "bc49df4e",
   "metadata": {},
   "outputs": [
    {
     "data": {
      "text/plain": [
       "RunnableBinding(bound=RunnableBinding(bound=RunnableAssign(mapper={\n",
       "  context: RunnableLambda(format_docs)\n",
       "}), kwargs={}, config={'run_name': 'format_inputs'}, config_factories=[])\n",
       "| ChatPromptTemplate(input_variables=['context', 'input'], input_types={}, partial_variables={}, messages=[SystemMessagePromptTemplate(prompt=PromptTemplate(input_variables=['context'], input_types={}, partial_variables={}, template=\"You are an assistant for question-answering tasks. \\nUse the following pieces of retrieved context to answer the question. \\nIf you don't know the answer, just say that you don't know. \\nUse three sentences maximum and keep the answer concise.\\n\\nContext: {context}\"), additional_kwargs={}), HumanMessagePromptTemplate(prompt=PromptTemplate(input_variables=['input'], input_types={}, partial_variables={}, template='{input}'), additional_kwargs={})])\n",
       "| ChatGoogleGenerativeAI(model='models/gemini-1.5-flash', google_api_key=SecretStr('**********'), temperature=0.2, client=<google.ai.generativelanguage_v1beta.services.generative_service.client.GenerativeServiceClient object at 0x000001402730AFD0>, default_metadata=())\n",
       "| StrOutputParser(), kwargs={}, config={'run_name': 'stuff_documents_chain'}, config_factories=[])"
      ]
     },
     "execution_count": 24,
     "metadata": {},
     "output_type": "execute_result"
    }
   ],
   "source": [
    "### Create a document chain\n",
    "from langchain.chains.combine_documents import create_stuff_documents_chain\n",
    "document_chain=create_stuff_documents_chain(llm,prompt)\n",
    "document_chain"
   ]
  },
  {
   "cell_type": "code",
   "execution_count": 25,
   "id": "cc9b6a02",
   "metadata": {},
   "outputs": [
    {
     "data": {
      "text/plain": [
       "RunnableBinding(bound=RunnableAssign(mapper={\n",
       "  context: RunnableBinding(bound=RunnableLambda(lambda x: x['input'])\n",
       "           | VectorStoreRetriever(tags=['Chroma', 'HuggingFaceEmbeddings'], vectorstore=<langchain_community.vectorstores.chroma.Chroma object at 0x00000140055F70E0>, search_kwargs={}), kwargs={}, config={'run_name': 'retrieve_documents'}, config_factories=[])\n",
       "})\n",
       "| RunnableAssign(mapper={\n",
       "    answer: RunnableBinding(bound=RunnableBinding(bound=RunnableAssign(mapper={\n",
       "              context: RunnableLambda(format_docs)\n",
       "            }), kwargs={}, config={'run_name': 'format_inputs'}, config_factories=[])\n",
       "            | ChatPromptTemplate(input_variables=['context', 'input'], input_types={}, partial_variables={}, messages=[SystemMessagePromptTemplate(prompt=PromptTemplate(input_variables=['context'], input_types={}, partial_variables={}, template=\"You are an assistant for question-answering tasks. \\nUse the following pieces of retrieved context to answer the question. \\nIf you don't know the answer, just say that you don't know. \\nUse three sentences maximum and keep the answer concise.\\n\\nContext: {context}\"), additional_kwargs={}), HumanMessagePromptTemplate(prompt=PromptTemplate(input_variables=['input'], input_types={}, partial_variables={}, template='{input}'), additional_kwargs={})])\n",
       "            | ChatGoogleGenerativeAI(model='models/gemini-1.5-flash', google_api_key=SecretStr('**********'), temperature=0.2, client=<google.ai.generativelanguage_v1beta.services.generative_service.client.GenerativeServiceClient object at 0x000001402730AFD0>, default_metadata=())\n",
       "            | StrOutputParser(), kwargs={}, config={'run_name': 'stuff_documents_chain'}, config_factories=[])\n",
       "  }), kwargs={}, config={'run_name': 'retrieval_chain'}, config_factories=[])"
      ]
     },
     "execution_count": 25,
     "metadata": {},
     "output_type": "execute_result"
    }
   ],
   "source": [
    "### Create The Final RAG Chain\n",
    "from langchain.chains import create_retrieval_chain\n",
    "rag_chain=create_retrieval_chain(retriever,document_chain)\n",
    "rag_chain"
   ]
  },
  {
   "cell_type": "code",
   "execution_count": 26,
   "id": "9065bcec",
   "metadata": {},
   "outputs": [],
   "source": [
    "response=rag_chain.invoke({\"input\":\"What events are captured in audit logs?\"})"
   ]
  },
  {
   "cell_type": "code",
   "execution_count": 27,
   "id": "99d7319d",
   "metadata": {},
   "outputs": [
    {
     "data": {
      "text/plain": [
       "{'input': 'What events are captured in audit logs?',\n",
       " 'context': [Document(metadata={'source': 'data\\\\doc_12.txt'}, page_content='Audit Logging — Admin Guide\\n\\n    Prerequisite: Admin role.  \\n    Steps: Settings → Security → Audit Logs → Enable.  \\n    Choose retention (30, 90, 365 days).  \\n    Events: login, permission changes, exports.'),\n",
       "  Document(metadata={'source': 'data\\\\doc_12.txt'}, page_content='Audit Logging — Admin Guide\\n\\n    Prerequisite: Admin role.  \\n    Steps: Settings → Security → Audit Logs → Enable.  \\n    Choose retention (30, 90, 365 days).  \\n    Events: login, permission changes, exports.'),\n",
       "  Document(metadata={'source': 'data\\\\doc_9.txt'}, page_content='Incident Runbook — API Latency Spikes\\n\\n    Symptom: P95 latency > 1s for /v1/search.  \\n    Mitigation: scale pods +1, warm cache with top queries, check DB CPU and cache hit ratio.'),\n",
       "  Document(metadata={'source': 'data\\\\doc_9.txt'}, page_content='Incident Runbook — API Latency Spikes\\n\\n    Symptom: P95 latency > 1s for /v1/search.  \\n    Mitigation: scale pods +1, warm cache with top queries, check DB CPU and cache hit ratio.')],\n",
       " 'answer': 'Audit logs capture login events, permission changes, and exports.  To enable them, an admin user must navigate to Settings → Security → Audit Logs and enable the feature.  Retention periods of 30, 90, or 365 days can be selected.'}"
      ]
     },
     "execution_count": 27,
     "metadata": {},
     "output_type": "execute_result"
    }
   ],
   "source": [
    "response"
   ]
  },
  {
   "cell_type": "code",
   "execution_count": 28,
   "id": "d89b45d6",
   "metadata": {},
   "outputs": [
    {
     "data": {
      "text/plain": [
       "'Audit logs capture login events, permission changes, and exports.  To enable them, an admin user must navigate to Settings → Security → Audit Logs and enable the feature.  Retention periods of 30, 90, or 365 days can be selected.'"
      ]
     },
     "execution_count": 28,
     "metadata": {},
     "output_type": "execute_result"
    }
   ],
   "source": [
    "response[\"answer\"]"
   ]
  }
 ],
 "metadata": {
  "kernelspec": {
   "display_name": "rag",
   "language": "python",
   "name": "python3"
  },
  "language_info": {
   "codemirror_mode": {
    "name": "ipython",
    "version": 3
   },
   "file_extension": ".py",
   "mimetype": "text/x-python",
   "name": "python",
   "nbconvert_exporter": "python",
   "pygments_lexer": "ipython3",
   "version": "3.13.0"
  }
 },
 "nbformat": 4,
 "nbformat_minor": 5
}
